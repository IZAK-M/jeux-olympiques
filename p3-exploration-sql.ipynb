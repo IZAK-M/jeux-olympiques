{
 "cells": [
  {
   "cell_type": "markdown",
   "metadata": {},
   "source": [
    "# P3. Exploration SQL"
   ]
  },
  {
   "cell_type": "markdown",
   "metadata": {},
   "source": [
    "Le répertoire `/db` contient une base de données SQLite3 `olympics.sqbpro` reprenant les résultats des épreuves des jeux d'été pour une période donnée (cf P1 & P2).\n",
    "\n",
    "On s'intéresse dans le cadre de cette partie P3 à l'exploration via SQL des résultats des JO d'été (table : `summer`)."
   ]
  },
  {
   "cell_type": "markdown",
   "metadata": {},
   "source": [
    "---"
   ]
  },
  {
   "cell_type": "markdown",
   "metadata": {},
   "source": [
    "### Question 1: Qu'est ce que SQL ?"
   ]
  },
  {
   "cell_type": "markdown",
   "metadata": {},
   "source": [
    "SQL sigle de **Structured Query Language** qui signifie Langage de requête structurée est un langage normalisé invité en **1974** par ***Donald D chamberlin et raymond F boyce***.\n",
    "\n",
    "Normalisé en 1986 il est utilisé dans les SGBD(R) : **Système** de **Gestion** de **Base** de **Donnée** (**Relationnel**) comme par exemple : ***Oracle , MySQL, SQLserver...etc***\n",
    "\n",
    "\n"
   ]
  },
  {
   "cell_type": "code",
   "execution_count": null,
   "metadata": {},
   "outputs": [],
   "source": []
  },
  {
   "cell_type": "markdown",
   "metadata": {},
   "source": [
    "### Question 2: Qu'est ce que SQLite 3 ? Avantages et/ou Inconvénients ?"
   ]
  },
  {
   "cell_type": "markdown",
   "metadata": {},
   "source": [
    "SQLite est un système de base de données qui a la particularité de fonctionner sans serveur, on dit aussi ***standalone*** ou ***base de données embarquée***.\n",
    "\n",
    "Il s'utiliser avec beaucoup de langages comme  PHP, Python, , Java, C/C++,...\n",
    "\n",
    "##### Avantage:\n",
    "Très léger et rapide à mettre en place\n",
    "on peut s'en servir pour :\n",
    "- stocker des données dans une vraie base de données sur une application pour smartphone (iPhone ou Android)\n",
    "- une application Windows, ou sur un serveur web.\n",
    "\n",
    "Performante et facile à utiliser , d'ailleurs ces performances sont même comparables aux autres SGBD fonctionnant avec un serveur comme MySQL, Microsoft SQL Server ou PostgreSQL.\n",
    "\n",
    "##### Inconvénients:\n",
    "\n",
    "- Écritures atomiques (avec SQLite, un seul processus peut écrire dans la base)\n",
    "- Pas de réplication (On ne peut pas créer des copies du serveur de base de données MySQL de façon à pouvoir répartir la charge (load-balancing) et ainsi pouvoir répondre à de fortes demandes, sur les sites à grande audience (comme facebook par exemple).\n"
   ]
  },
  {
   "cell_type": "markdown",
   "metadata": {},
   "source": [
    "### Question 3: Donner des exemples d'autres formats de fichier pouvant être utilisé pour fournir des données similaires "
   ]
  },
  {
   "cell_type": "markdown",
   "metadata": {},
   "source": [
    "CSV, JSON, XML ou XLSX"
   ]
  },
  {
   "cell_type": "markdown",
   "metadata": {},
   "source": [
    "### Question 4: Quel est le type (texte ou binaire) du fichier base de données SQLite3?"
   ]
  },
  {
   "cell_type": "markdown",
   "metadata": {},
   "source": [
    "Le fichier `olympics.sqbpro` est un fichier de Sauvegarde d'une base de données en format binaire."
   ]
  },
  {
   "cell_type": "markdown",
   "metadata": {},
   "source": [
    "### Question 5: Donner les caractéristiques de la table `summer` ? "
   ]
  },
  {
   "cell_type": "markdown",
   "metadata": {},
   "source": [
    "##### Year , City , Sport,Discipline, Athlete,Country,Gender,Event,Medal #####\n",
    "```sql\n",
    "SELECT *\n",
    "FROM summer\n",
    "```"
   ]
  },
  {
   "cell_type": "markdown",
   "metadata": {},
   "source": [
    "---\n",
    "### Question 6: Combien d'enregistrements possède la table `summer` ?"
   ]
  },
  {
   "cell_type": "markdown",
   "metadata": {},
   "source": [
    "```sql\n",
    "SELECT count(*)\n",
    "FROM summer\n",
    "```"
   ]
  },
  {
   "cell_type": "markdown",
   "metadata": {},
   "source": [
    "![Q6_pre](screen/+0.PNG)"
   ]
  },
  {
   "cell_type": "markdown",
   "metadata": {},
   "source": [
    "### Question 7: Quelle période des JO couvre ce fichier de résultats ?"
   ]
  },
  {
   "cell_type": "markdown",
   "metadata": {},
   "source": [
    "```sql\n",
    "SELECT min ( Year ), max (Year)\n",
    "FROM summer\n",
    "```"
   ]
  },
  {
   "cell_type": "markdown",
   "metadata": {},
   "source": [
    "![Q7_pre](screen/-0.PNG)"
   ]
  },
  {
   "cell_type": "markdown",
   "metadata": {},
   "source": [
    "### Question 8: Indiquer les années et villes des olympiades ? "
   ]
  },
  {
   "cell_type": "markdown",
   "metadata": {},
   "source": [
    "```sql\n",
    "SELECT Year,City\n",
    "FROM summer\n",
    "GROUP by Year\n",
    "```"
   ]
  },
  {
   "cell_type": "markdown",
   "metadata": {},
   "source": [
    "![Q8_pre](screen/0.PNG)"
   ]
  },
  {
   "cell_type": "code",
   "execution_count": null,
   "metadata": {},
   "outputs": [],
   "source": []
  },
  {
   "cell_type": "code",
   "execution_count": null,
   "metadata": {},
   "outputs": [],
   "source": []
  },
  {
   "cell_type": "markdown",
   "metadata": {},
   "source": [
    "### Question i: "
   ]
  },
  {
   "cell_type": "markdown",
   "metadata": {},
   "source": [
    "***Q1. Combien la France a remporté de médailles d’or aux JO de 1984 ? - (Christophe)***\n",
    "```sql\n",
    "SELECT count(*)\n",
    "FROM (\n",
    "SELECT DISTINCT  Sport, Discipline, Event, Gender\n",
    "FROM summer\n",
    "WHERE Year = 1984 AND Country = \"FRA\"  AND Medal = \"Gold\"\n",
    "GROUP BY Sport, Discipline, Event, Gender\n",
    ")\n",
    "```\n"
   ]
  },
  {
   "cell_type": "markdown",
   "metadata": {},
   "source": [
    "![Q1](screen/1.PNG)"
   ]
  },
  {
   "cell_type": "markdown",
   "metadata": {},
   "source": [
    "***Q2. Quel pays a le plus d’athlètes (toutes années confondues) ? (Matthias)***\n",
    "```sql\n",
    "SELECT count(DISTINCT Athlete)as one ,Country FROM summer\n",
    "GROUP by Country \n",
    "ORDER by one DESC\n",
    "limit 1\n",
    "```"
   ]
  },
  {
   "cell_type": "markdown",
   "metadata": {},
   "source": [
    "![Q2](screen/2.PNG)"
   ]
  },
  {
   "cell_type": "markdown",
   "metadata": {},
   "source": [
    "***Q3. En 2012 combien de médailles le Japon a t-il gagné ? (Théo)***\n",
    "```sql\n",
    "SELECT count(Medal) FROM summer\n",
    "WHERE Country='JPN'  AND Year= 2012\n",
    "```"
   ]
  },
  {
   "cell_type": "markdown",
   "metadata": {},
   "source": [
    "![Q3](screen/3.PNG)"
   ]
  },
  {
   "cell_type": "markdown",
   "metadata": {},
   "source": [
    "***Q4. Dans quels différents sports les Grecs ont-ils gagné des médailles ? - (Corentin L)***\n",
    "```sql\n",
    "SELECT DISTINCT Sport FROM summer\n",
    "WHERE Country = 'GRE'\n",
    "```"
   ]
  },
  {
   "cell_type": "markdown",
   "metadata": {},
   "source": [
    "![Q4](screen/4.PNG)"
   ]
  },
  {
   "cell_type": "markdown",
   "metadata": {},
   "source": [
    "***Q5. Quel pays a remporté le plus de médailles d’or ? (Philippe)***\n",
    "```sql\n",
    "SELECT count(Medal)as one ,Country FROM summer\n",
    "WHERE Medal='Gold'\n",
    "GROUP BY country\n",
    "ORDER by one DESC\n",
    "limit 1\n",
    "```"
   ]
  },
  {
   "cell_type": "markdown",
   "metadata": {},
   "source": [
    "![Q5](screen/5.PNG)"
   ]
  },
  {
   "cell_type": "code",
   "execution_count": null,
   "metadata": {},
   "outputs": [],
   "source": []
  },
  {
   "cell_type": "markdown",
   "metadata": {},
   "source": [
    "***Q6. Combien de villes différentes ont accueilli les JO d’été entre 1896 - et 2012 ? (Yoann)***\n",
    "```sql\n",
    "SELECT count(DISTINCT City) FROM summer\n",
    "WHERE Year BETWEEN 1896 AND 2012\n",
    "```"
   ]
  },
  {
   "cell_type": "markdown",
   "metadata": {},
   "source": [
    "![Q6](screen/6.PNG)"
   ]
  },
  {
   "cell_type": "markdown",
   "metadata": {},
   "source": [
    "***Q7. Combien de femmes ont obtenu une médaille d’or ? (Lamia)***\n",
    "```sql\n",
    "SELECT count(DISTINCT Athlete) FROM summer\n",
    "WHERE Medal = 'Gold' AND Gender='Women'\n",
    "GROUP by Athlete\n",
    "```"
   ]
  },
  {
   "cell_type": "markdown",
   "metadata": {},
   "source": [
    "![Q7](screen/7.PNG)"
   ]
  },
  {
   "cell_type": "markdown",
   "metadata": {},
   "source": [
    "***Q8. Combien de sports différents sont représentés par année ? (joris)***\n",
    "```sql\n",
    "SELECT count(DISTINCT Sport), Year FROM summer\n",
    "GROUP by Year\n",
    "```"
   ]
  },
  {
   "cell_type": "markdown",
   "metadata": {},
   "source": [
    "![Q8](screen/8.PNG)"
   ]
  },
  {
   "cell_type": "markdown",
   "metadata": {},
   "source": [
    "***Q9. Combien de fois Londres a accueilli les J.O ? (Marvin)***\n",
    "```sql\n",
    "SELECT count(DISTINCT Year) FROM summer\n",
    "WHERE City='London'\n",
    "```"
   ]
  },
  {
   "cell_type": "markdown",
   "metadata": {},
   "source": [
    "![Q9](screen/9.PNG)"
   ]
  },
  {
   "cell_type": "markdown",
   "metadata": {},
   "source": [
    "***Q10. Combien de joueuses comptait la sélection brésilienne de volley-ball - médaillée d’or aux J.O de 2012 ? (Corentin P)***\n",
    "```sql\n",
    "SELECT count(Athlete) FROM summer\n",
    "WHERE Country='BRA' AND Year=2012 AND Sport='Volleyball' AND Medal='Gold'\n",
    "```"
   ]
  },
  {
   "cell_type": "markdown",
   "metadata": {},
   "source": [
    "![Q10](screen/10.PNG)"
   ]
  },
  {
   "cell_type": "markdown",
   "metadata": {},
   "source": [
    "****Q11.Combien de femmes françaises ont participé en 2012 , quel sont leurs - médailles ? (izak)***\n",
    "```sql\n",
    "SELECT Athlete, Event,Medal FROM summer\n",
    "WHERE Country='FRA' AND Year=2012 AND Gender='Women'\n",
    "```"
   ]
  },
  {
   "cell_type": "markdown",
   "metadata": {},
   "source": [
    "![Q11](screen/11.PNG)"
   ]
  },
  {
   "cell_type": "markdown",
   "metadata": {},
   "source": [
    "***Q12. Quel est l’athlète qui a remporté le plus de médailles d’or ? - (mayel)***\n",
    "```sql\n",
    "SELECT count(Medal)as one ,Athlete FROM summer\n",
    "WHERE Medal='Gold'\n",
    "GROUP BY Athlete\n",
    "ORDER by one DESC\n",
    "limit 1\n",
    "```"
   ]
  },
  {
   "cell_type": "markdown",
   "metadata": {},
   "source": [
    "![Q12](screen/12.PNG)"
   ]
  },
  {
   "cell_type": "markdown",
   "metadata": {},
   "source": [
    "***Q13. Est-ce que la France à déjà gagné une médaille d’or au cricket ? - (jordan)***\n",
    "```sql\n",
    "SELECT Country FROM summer\n",
    "WHERE Medal='Gold' AND Sport='Criket' AND Country='FRA'\n",
    "```"
   ]
  },
  {
   "cell_type": "markdown",
   "metadata": {},
   "source": [
    "![Q13](screen/13.PNG)"
   ]
  },
  {
   "cell_type": "code",
   "execution_count": null,
   "metadata": {},
   "outputs": [],
   "source": []
  },
  {
   "cell_type": "markdown",
   "metadata": {},
   "source": [
    "***Q14. Combien de médaillés ont un nom de famille de plus de 6 lettres en - excluant les années paires ? (jonathan)***\n",
    "0"
   ]
  },
  {
   "cell_type": "markdown",
   "metadata": {},
   "source": [
    "![Q14](screen/14.PNG)"
   ]
  },
  {
   "cell_type": "markdown",
   "metadata": {},
   "source": [
    "***Q15. Le nombre de médailles d’or par pays en 2012 (Maëlle)***\n",
    "```sql\n",
    "SELECT count(Medal),Country FROM summer\n",
    "WHERE Year=2012 AND Medal='Gold'\n",
    "GROUP by Country\n",
    "```"
   ]
  },
  {
   "cell_type": "markdown",
   "metadata": {},
   "source": [
    "![Q15](screen/15.PNG)"
   ]
  },
  {
   "cell_type": "markdown",
   "metadata": {},
   "source": [
    "***Q16. Combien de femmes ont remporté des médailles ? (Alicia)***\n",
    "```sql\n",
    "SELECT count( Gender) FROM summer\n",
    "WHERE Gender='Women'\n",
    "```"
   ]
  },
  {
   "cell_type": "markdown",
   "metadata": {},
   "source": [
    "![Q16](screen/16.PNG)"
   ]
  },
  {
   "cell_type": "markdown",
   "metadata": {},
   "source": [
    "***Q17. Entre 1984 et 2012 combien de médailles a gagné la France ? (Abire)***\n",
    "```sql\n",
    "SELECT count(Medal) FROM summer\n",
    "WHERE Year BETWEEN 1984 AND 2012 AND Country='FRA'\n",
    "```"
   ]
  },
  {
   "cell_type": "markdown",
   "metadata": {},
   "source": [
    "![Q17](screen/17.PNG)"
   ]
  },
  {
   "cell_type": "code",
   "execution_count": 3,
   "metadata": {},
   "outputs": [],
   "source": [
    "#"
   ]
  },
  {
   "cell_type": "markdown",
   "metadata": {},
   "source": [
    "--- "
   ]
  },
  {
   "cell_type": "markdown",
   "metadata": {},
   "source": [
    "Fin"
   ]
  }
 ],
 "metadata": {
  "kernelspec": {
   "display_name": "Python 3",
   "language": "python",
   "name": "python3"
  },
  "language_info": {
   "codemirror_mode": {
    "name": "ipython",
    "version": 3
   },
   "file_extension": ".py",
   "mimetype": "text/x-python",
   "name": "python",
   "nbconvert_exporter": "python",
   "pygments_lexer": "ipython3",
   "version": "3.8.5"
  }
 },
 "nbformat": 4,
 "nbformat_minor": 4
}
